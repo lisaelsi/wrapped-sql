{
 "cells": [
  {
   "cell_type": "code",
   "execution_count": null,
   "metadata": {},
   "outputs": [],
   "source": [
    "import pandas as pd\n",
    "import os\n",
    "\n",
    "def get_playlist_data(folder):\n",
    "    dataframes = {}\n",
    "    all_files = os.listdir(folder)\n",
    "\n",
    "    for filename in all_files:\n",
    "        if filename.endswith('.csv'):\n",
    "            df = pd.read_csv(os.path.join(folder + '/', filename))\n",
    "            dataframes[filename] = df\n",
    "    return dataframes"
   ]
  },
  {
   "cell_type": "code",
   "execution_count": 38,
   "metadata": {},
   "outputs": [],
   "source": [
    "songs = pd.read_csv('../data/songs.csv', sep=';')\n",
    "\n",
    "# Get unique artists\n",
    "artists = songs[['artist_ids', 'artist_names']].drop_duplicates(\n",
    "    subset=['artist_ids'])\n",
    "\n",
    "artists['artist_ids'] = artists['artist_ids'].str.split(',')\n",
    "artists['artist_names'] = artists['artist_names'].str.split(',')\n",
    "\n",
    "# Explode the DataFrame\n",
    "artists = artists.explode(['artist_ids', 'artist_names']).reset_index(drop=True)\n",
    "\n",
    "# Remove duplicates\n",
    "artists = artists.drop_duplicates(subset=['artist_names'])\n",
    "\n",
    "artists.rename(columns={'artist_ids': 'artist_id', 'artist_names': 'arstist_name'}, inplace=True)\n",
    "\n",
    "# create artist csv\n",
    "artists.to_csv('artists.csv', index=False)"
   ]
  },
  {
   "cell_type": "code",
   "execution_count": null,
   "metadata": {},
   "outputs": [],
   "source": [
    "def convert_to_float(value):\n",
    "    if type(value) != float:\n",
    "        if '×10^' in value:\n",
    "            base, exponent = value.split('×10^−')\n",
    "            print(base)\n",
    "            print(exponent)\n",
    "            return float(base) * (10 ** float(exponent))\n",
    "        else:\n",
    "            return float(value)  # Assuming other values are already in a float-compatible format\n",
    "    else:\n",
    "        return value\n",
    "\n",
    "\n",
    "songs = pd.read_csv('songs.csv', sep=';')\n",
    "\n",
    "# change column instrumentalness to float\n",
    "songs[' instrumentalness'] = songs[' instrumentalness'].apply(convert_to_float)\n",
    "\n",
    "songs.to_csv('songs.csv', index=False, sep=';')\n"
   ]
  },
  {
   "cell_type": "code",
   "execution_count": 3,
   "metadata": {},
   "outputs": [],
   "source": [
    "songs = pd.read_csv('../data/songs.csv', sep=';')\n",
    "\n",
    "songs_artists = songs[['genres', 'spotify_id']].copy()\n",
    "songs_artists['genres'] = songs_artists['genres'].str.split(',')\n",
    "songs_artists = songs_artists.explode('genres').reset_index(drop=True)\n",
    "songs_artists['genre_id'] = songs_artists.index\n",
    "\n",
    "songs_artists = songs_artists.drop_duplicates(subset=['genres', 'spotify_id'])\n",
    "songs_artists.rename(columns={'genres': 'genre', 'spotify_id': 'track_id'}, inplace=True)\n",
    "\n",
    "genres = songs_artists[['genre', 'genre_id']].copy()\n",
    "\n",
    "songs_artists.drop(columns=['genre'], inplace=True)"
   ]
  },
  {
   "cell_type": "code",
   "execution_count": 4,
   "metadata": {},
   "outputs": [],
   "source": [
    "genres.to_csv('../data/genres.csv', index=False)\n",
    "songs_artists.to_csv('../data/genresongs.csv', index=False)"
   ]
  },
  {
   "cell_type": "code",
   "execution_count": null,
   "metadata": {},
   "outputs": [],
   "source": [
    "songs = pd.read_csv('../data/songs.csv', sep=';')\n",
    "songss = songs.copy()\n",
    "songss.drop(columns=['genres'], inplace=True)\n",
    "songss.to_csv('../data/songss.csv', index=False, sep=';')"
   ]
  },
  {
   "cell_type": "code",
   "execution_count": 57,
   "metadata": {},
   "outputs": [],
   "source": [
    "songs = pd.read_csv('../data/songs.csv', sep=';')\n",
    "\n",
    "songs_artist = songs[['artist_ids', 'spotify_id']].copy()\n",
    "songs_artist['artist_ids'] = songs_artist['artist_ids'].str.split(',')\n",
    "songs_artist = songs_artist.explode('artist_ids').reset_index(drop=True)\n",
    "\n",
    "songs_artist = songs_artist.drop_duplicates(subset=['artist_ids', 'spotify_id'])\n",
    "\n",
    "songs_artist.rename(columns={'artist_ids': 'artist', 'spotify_id': 'track_id'}, inplace=True)\n",
    "\n",
    "songs_artist.head()\n",
    "\n",
    "songs_artist.to_csv('../data/songsartists.csv', index=False)"
   ]
  }
 ],
 "metadata": {
  "kernelspec": {
   "display_name": "env",
   "language": "python",
   "name": "python3"
  },
  "language_info": {
   "codemirror_mode": {
    "name": "ipython",
    "version": 3
   },
   "file_extension": ".py",
   "mimetype": "text/x-python",
   "name": "python",
   "nbconvert_exporter": "python",
   "pygments_lexer": "ipython3",
   "version": "3.9.18"
  }
 },
 "nbformat": 4,
 "nbformat_minor": 2
}
