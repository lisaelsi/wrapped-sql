{
 "cells": [
  {
   "cell_type": "code",
   "execution_count": 20,
   "metadata": {},
   "outputs": [],
   "source": [
    "import pandas as pd\n",
    "import os\n",
    "\n",
    "def get_playlist_data(folder):\n",
    "    dataframes = {}\n",
    "    all_files = os.listdir(folder)\n",
    "\n",
    "    for filename in all_files:\n",
    "        if filename.endswith('.csv'):\n",
    "            df = pd.read_csv(os.path.join(folder + '/', filename), sep=';')\n",
    "            df['wrapped_year'] = filename.split('.')[0]\n",
    "            df['position'] = df.index + 1\n",
    "            dataframes[filename] = df\n",
    "    return dataframes"
   ]
  },
  {
   "cell_type": "code",
   "execution_count": 21,
   "metadata": {},
   "outputs": [],
   "source": [
    "all_songs = get_playlist_data('wrapped')\n",
    "\n",
    "all_songs_df = pd.concat(all_songs.values(), ignore_index=True)\n",
    "\n",
    "all_songs_df.head()\n",
    "\n",
    "all_songs_df.to_csv('all_songs.csv', sep=';', index=False)"
   ]
  },
  {
   "cell_type": "markdown",
   "metadata": {},
   "source": [
    "### Genres"
   ]
  },
  {
   "cell_type": "code",
   "execution_count": 22,
   "metadata": {},
   "outputs": [],
   "source": [
    "genre_info = all_songs_df['Genres']\n",
    "genres = genre_info.str.split(',').explode().to_frame()\n",
    "\n",
    "genres.rename(columns={'Genres': 'genre_name'}, inplace=True)\n",
    "genres.reset_index(drop=True, inplace=True)\n",
    "\n",
    "genres = genres.dropna()\n",
    "\n",
    "# Removing duplicates based on 'genre_name'\n",
    "genres = genres.drop_duplicates(subset='genre_name').reset_index(drop=True)\n",
    "\n",
    "# Assigning new unique IDs\n",
    "genres['genre_id'] = genres.index"
   ]
  },
  {
   "cell_type": "code",
   "execution_count": 23,
   "metadata": {},
   "outputs": [],
   "source": [
    "genres.to_csv('FILES/genres.csv', sep=';', index=False)"
   ]
  },
  {
   "cell_type": "markdown",
   "metadata": {},
   "source": [
    "### Genre songs"
   ]
  },
  {
   "cell_type": "code",
   "execution_count": 24,
   "metadata": {},
   "outputs": [],
   "source": [
    "genre_songs = all_songs_df[['Spotify ID', 'Genres']]\n",
    "\n",
    "# expand the genres column\n",
    "genre_songs = genre_songs.assign(Genres=genre_songs.Genres.str.split(',')).explode('Genres')\n",
    "\n",
    "# merge to get genre_id\n",
    "genre_songs = genre_songs.merge(genres, left_on='Genres', right_on='genre_name', how='left')\n",
    "genre_songs.drop(columns=['Genres', 'genre_name'], inplace=True)\n",
    "\n",
    "# datatype of genre_id is float, convert it to int\n",
    "genre_songs['genre_id'] = genre_songs['genre_id'].astype('Int64')\n",
    "genre_songs.drop_duplicates(inplace=True)\n",
    "\n",
    "genre_songs.dropna(inplace=True)"
   ]
  },
  {
   "cell_type": "code",
   "execution_count": 25,
   "metadata": {},
   "outputs": [],
   "source": [
    "genre_songs.to_csv('FILES/genre_songs.csv', sep=';', index=False)"
   ]
  },
  {
   "cell_type": "markdown",
   "metadata": {},
   "source": [
    "### Artists"
   ]
  },
  {
   "cell_type": "code",
   "execution_count": 26,
   "metadata": {},
   "outputs": [],
   "source": [
    "all_songs_df = pd.read_csv('all_songs.csv', sep=';')"
   ]
  },
  {
   "cell_type": "code",
   "execution_count": 27,
   "metadata": {},
   "outputs": [],
   "source": [
    "artists = all_songs_df[['Artist Name(s)', 'Artist IDs']].copy()\n",
    "\n",
    "# Create a combined column of tuples (artist name, artist ID)\n",
    "artists['Artist Info'] = artists.apply(lambda row: list(zip(row['Artist Name(s)'].split(','), row['Artist IDs'].split(','))), axis=1)\n",
    "\n",
    "# Explode this combined column\n",
    "exploded_df = artists.explode('Artist Info')\n",
    "\n",
    "# Create separate columns for artist name and ID from the tuples\n",
    "exploded_df['Artist Name'] = exploded_df['Artist Info'].apply(lambda x: x[0].strip())\n",
    "exploded_df['Artist Spotify ID'] = exploded_df['Artist Info'].apply(lambda x: x[1].strip())\n",
    "\n",
    "# Select only the relevant columns\n",
    "artist_df = exploded_df[['Artist Name', 'Artist Spotify ID']].drop_duplicates().reset_index(drop=True)\n",
    "\n",
    "artist_df = artist_df[['Artist Name', 'Artist Spotify ID']].rename(columns={'Artist Name': 'artist_name', 'Artist Spotify ID': 'artist_id'})"
   ]
  },
  {
   "cell_type": "code",
   "execution_count": 28,
   "metadata": {},
   "outputs": [],
   "source": [
    "artist_df.to_csv('FILES/artists.csv', sep=';', index=False)"
   ]
  },
  {
   "cell_type": "markdown",
   "metadata": {},
   "source": [
    "### Artist songs"
   ]
  },
  {
   "cell_type": "code",
   "execution_count": 29,
   "metadata": {},
   "outputs": [],
   "source": [
    "all_songs = all_songs_df.copy()\n",
    "\n",
    "all_songs['artist_id'] = all_songs_df['Artist IDs'].str.split(',')\n",
    "\n",
    "# Explode the all_songs_df on 'Artist IDs'\n",
    "all_songs_exploded = all_songs.explode('artist_id')\n",
    "\n",
    "merged_df = pd.merge(all_songs_exploded, artist_df, on='artist_id', how='left')\n",
    "\n",
    "artists_songs = merged_df[['Spotify ID', 'artist_id']].drop_duplicates().reset_index(drop=True)\n",
    "\n",
    "artists_songs.rename(columns={'Spotify ID': 'song_id', 'artist_id': 'artist_id'}, inplace=True)\n",
    "\n",
    "artists_songs.to_csv('FILES/artists_songs.csv', sep=';', index=False)"
   ]
  },
  {
   "cell_type": "markdown",
   "metadata": {},
   "source": [
    "### Playlists"
   ]
  },
  {
   "cell_type": "code",
   "execution_count": 30,
   "metadata": {},
   "outputs": [],
   "source": [
    "all_songs = get_playlist_data('wrapped')\n",
    "all_songs_df = pd.concat(all_songs.values(), ignore_index=True)\n",
    "\n",
    "years = all_songs_df.wrapped_year.unique()\n",
    "playlists = pd.DataFrame(years, columns=['year'])\n",
    "playlists['user'] = 'user1'\n",
    "playlists['playlist_id'] = playlists.index + 1\n",
    "\n",
    "playlists.to_csv('FILES/playlists.csv', sep=';', index=False)"
   ]
  },
  {
   "cell_type": "markdown",
   "metadata": {},
   "source": [
    "### Playlist songs"
   ]
  },
  {
   "cell_type": "code",
   "execution_count": 31,
   "metadata": {},
   "outputs": [],
   "source": [
    "merged = playlists.merge(all_songs_df, how='left', left_on='year', right_on='wrapped_year')\n",
    "playlist_songs = merged[['playlist_id', 'Spotify ID', 'position']].copy()\n",
    "\n",
    "playlist_songs.rename(columns={'Spotify ID': 'song_id'}, inplace=True)\n",
    "\n",
    "playlist_songs.to_csv('FILES/playlist_songs.csv', sep=';', index=False) "
   ]
  },
  {
   "cell_type": "markdown",
   "metadata": {},
   "source": [
    "### Songs"
   ]
  },
  {
   "cell_type": "code",
   "execution_count": 32,
   "metadata": {},
   "outputs": [],
   "source": [
    "songs = all_songs_df.copy()  \n",
    "\n",
    "songs = songs.drop(columns=['Artist Name(s)', 'Artist IDs', 'Album Name', 'Genres', 'wrapped_year', 'position'])\n",
    "\n",
    "songs.drop_duplicates(subset='Spotify ID', inplace=True)\n",
    "\n",
    "songs.rename(columns={'Spotify ID': 'song_id', 'Track Name': 'song_name'}, inplace=True)\n",
    "\n",
    "songs.to_csv('FILES/songs.csv', sep=';', index=False)   "
   ]
  },
  {
   "cell_type": "markdown",
   "metadata": {},
   "source": [
    "### Albums"
   ]
  },
  {
   "cell_type": "code",
   "execution_count": 33,
   "metadata": {},
   "outputs": [],
   "source": [
    "albums = all_songs_df[['Album Name']].copy()\n",
    "\n",
    "albums['album_id'] = albums.index + 1\n",
    "\n",
    "albums.drop_duplicates(subset='Album Name', inplace=True)\n",
    "\n",
    "albums.rename(columns={'Album Name': 'album_name'}, inplace=True)\n",
    "\n",
    "albums.to_csv('FILES/albums.csv', sep=';', index=False)"
   ]
  },
  {
   "cell_type": "markdown",
   "metadata": {},
   "source": [
    "### Song albums"
   ]
  },
  {
   "cell_type": "code",
   "execution_count": 34,
   "metadata": {},
   "outputs": [],
   "source": [
    "songs_albums = all_songs_df[['Spotify ID', 'Album Name']].copy()\n",
    "\n",
    "songs_albums.rename(columns={'Spotify ID': 'song_id', 'Album Name': 'album_name'}, inplace=True)\n",
    "\n",
    "songs_albums = songs_albums.merge(albums, how='left', on='album_name')\n",
    "\n",
    "songs_albums.drop(columns=['album_name'], inplace=True)\n",
    "\n",
    "songs_albums.drop_duplicates(subset=['song_id', 'album_id'], inplace=True)\n",
    "\n",
    "songs_albums.to_csv('FILES/songs_albums.csv', sep=';', index=False)"
   ]
  },
  {
   "cell_type": "code",
   "execution_count": 35,
   "metadata": {},
   "outputs": [],
   "source": [
    "\n",
    "\n",
    "# Fixed the release date column in songs.csv so that it is in the format YYYY-MM-DD\n",
    "\n",
    "songs = pd.read_csv('FILES/songs.csv', sep=';')\n",
    "\n",
    "release_date = songs['Release Date'].copy()\n",
    "\n",
    "# loop over all the release dates\n",
    "for i in range(len(release_date)):\n",
    "\n",
    "    date = release_date[i]\n",
    "    length = len(date)\n",
    "\n",
    "    if length == 4:\n",
    "        release_date[i] = date + '-01-01'\n",
    "\n",
    "    songs['Release Date'] = release_date\n",
    "\n",
    "songs.to_csv('FILES/songs.csv', sep=';', index=False)\n",
    "\n"
   ]
  }
 ],
 "metadata": {
  "kernelspec": {
   "display_name": "env",
   "language": "python",
   "name": "python3"
  },
  "language_info": {
   "codemirror_mode": {
    "name": "ipython",
    "version": 3
   },
   "file_extension": ".py",
   "mimetype": "text/x-python",
   "name": "python",
   "nbconvert_exporter": "python",
   "pygments_lexer": "ipython3",
   "version": "3.9.18"
  }
 },
 "nbformat": 4,
 "nbformat_minor": 2
}
